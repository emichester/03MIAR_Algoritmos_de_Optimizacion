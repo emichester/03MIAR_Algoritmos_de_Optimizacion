{
  "nbformat": 4,
  "nbformat_minor": 0,
  "metadata": {
    "colab": {
      "provenance": [],
      "toc_visible": true,
      "include_colab_link": true
    },
    "kernelspec": {
      "name": "python3",
      "display_name": "Python 3"
    }
  },
  "cells": [
    {
      "cell_type": "markdown",
      "metadata": {
        "id": "view-in-github",
        "colab_type": "text"
      },
      "source": [
        "<a href=\"https://colab.research.google.com/github/emichester/03MIAR_Algoritmos_de_Optimizacion/blob/main/AG3/Algoritmos_Emilio_Jes%C3%BAs_Hernandez_Salas_AG3.ipynb\" target=\"_parent\"><img src=\"https://colab.research.google.com/assets/colab-badge.svg\" alt=\"Open In Colab\"/></a>"
      ]
    },
    {
      "cell_type": "markdown",
      "source": [
        "# Actividad Guiada 3\n",
        "# Emilio Jesús Hernández Salas\n",
        "\n",
        "- Link repositorio de GitHub: [03MIAR_Algoritmos_de_Optimizacion](https://github.com/emichester/03MIAR_Algoritmos_de_Optimizacion)"
      ],
      "metadata": {
        "id": "smug4zB8drJz"
      }
    },
    {
      "cell_type": "markdown",
      "source": [
        "#Carga de librerias"
      ],
      "metadata": {
        "id": "m-gbxt9BFfdN"
      }
    },
    {
      "cell_type": "code",
      "metadata": {
        "id": "qP-Y3Gkfc4vn",
        "colab": {
          "base_uri": "https://localhost:8080/",
          "height": 0
        },
        "outputId": "19f4c877-a081-4a7c-aad8-8c87c83b6f62"
      },
      "source": [
        "!pip install requests    #Hacer llamadas http a paginas de la red\n",
        "!pip install tsplib95    #Modulo para las instancias del problema del TSP"
      ],
      "execution_count": 1,
      "outputs": [
        {
          "output_type": "stream",
          "name": "stdout",
          "text": [
            "Requirement already satisfied: requests in /usr/local/lib/python3.10/dist-packages (2.27.1)\n",
            "Requirement already satisfied: urllib3<1.27,>=1.21.1 in /usr/local/lib/python3.10/dist-packages (from requests) (1.26.16)\n",
            "Requirement already satisfied: certifi>=2017.4.17 in /usr/local/lib/python3.10/dist-packages (from requests) (2023.5.7)\n",
            "Requirement already satisfied: charset-normalizer~=2.0.0 in /usr/local/lib/python3.10/dist-packages (from requests) (2.0.12)\n",
            "Requirement already satisfied: idna<4,>=2.5 in /usr/local/lib/python3.10/dist-packages (from requests) (3.4)\n",
            "Requirement already satisfied: tsplib95 in /usr/local/lib/python3.10/dist-packages (0.7.1)\n",
            "Requirement already satisfied: Click>=6.0 in /usr/local/lib/python3.10/dist-packages (from tsplib95) (8.1.3)\n",
            "Requirement already satisfied: Deprecated~=1.2.9 in /usr/local/lib/python3.10/dist-packages (from tsplib95) (1.2.14)\n",
            "Requirement already satisfied: networkx~=2.1 in /usr/local/lib/python3.10/dist-packages (from tsplib95) (2.8.8)\n",
            "Requirement already satisfied: tabulate~=0.8.7 in /usr/local/lib/python3.10/dist-packages (from tsplib95) (0.8.10)\n",
            "Requirement already satisfied: wrapt<2,>=1.10 in /usr/local/lib/python3.10/dist-packages (from Deprecated~=1.2.9->tsplib95) (1.14.1)\n"
          ]
        }
      ]
    },
    {
      "cell_type": "markdown",
      "source": [
        "#Carga de los datos del problema"
      ],
      "metadata": {
        "id": "nHRiJhTnFmuV"
      }
    },
    {
      "cell_type": "code",
      "metadata": {
        "id": "mnA47nhtdKOc",
        "colab": {
          "base_uri": "https://localhost:8080/",
          "height": 0
        },
        "outputId": "5edef2b7-5fc2-4ca5-e04d-e49732235b77"
      },
      "source": [
        "import urllib.request #Hacer llamadas http a paginas de la red\n",
        "import tsplib95       #Modulo para las instancias del problema del TSP\n",
        "import math           #Modulo de funciones matematicas. Se usa para exp\n",
        "import random                     #Para generar valores aleatorios\n",
        "import copy\n",
        "import time\n",
        "\n",
        "#Descargamos el fichero de datos(Matriz de distancias)\n",
        "file = \"swiss42.tsp\" ;\n",
        "urllib.request.urlretrieve(\"http://comopt.ifi.uni-heidelberg.de/software/TSPLIB95/tsp/swiss42.tsp.gz\", file + '.gz')\n",
        "!gzip -d swiss42.tsp.gz     #Descomprimir el fichero de datos\n",
        "\n"
      ],
      "execution_count": 2,
      "outputs": [
        {
          "output_type": "stream",
          "name": "stdout",
          "text": [
            "gzip: swiss42.tsp already exists; do you wish to overwrite (y or n)? ^C\n"
          ]
        }
      ]
    },
    {
      "cell_type": "code",
      "metadata": {
        "id": "RIXYkDWcfmwd"
      },
      "source": [
        "#Carga de datos y generación de objeto problem\n",
        "###############################################################################\n",
        "problem = tsplib95.load(file)\n",
        "\n",
        "#Nodos\n",
        "Nodos = list(problem.get_nodes())\n",
        "\n",
        "#Aristas\n",
        "Aristas = list(problem.get_edges())\n",
        "\n"
      ],
      "execution_count": 3,
      "outputs": []
    },
    {
      "cell_type": "code",
      "metadata": {
        "id": "a7bTofSnn_Jt",
        "colab": {
          "base_uri": "https://localhost:8080/",
          "height": 0
        },
        "outputId": "c4d41f9e-7d0c-4934-f727-eb0ffcb25a72"
      },
      "source": [
        "#Probamos algunas funciones del objeto problem\n",
        "\n",
        "#Distancia entre nodos\n",
        "problem.get_weight(0, 1)\n",
        "\n",
        "#Todas las funciones\n",
        "#Documentación: https://tsplib95.readthedocs.io/en/v0.6.1/modules.html\n",
        "\n",
        "#dir(problem)"
      ],
      "execution_count": 4,
      "outputs": [
        {
          "output_type": "execute_result",
          "data": {
            "text/plain": [
              "15"
            ]
          },
          "metadata": {},
          "execution_count": 4
        }
      ]
    },
    {
      "cell_type": "markdown",
      "source": [
        "#Funcionas basicas\n"
      ],
      "metadata": {
        "id": "BpwtaRQIFYvO"
      }
    },
    {
      "cell_type": "code",
      "metadata": {
        "id": "tzrkaBS3gmmz"
      },
      "source": [
        "\n",
        "#Funcionas basicas\n",
        "###############################################################################\n",
        "\n",
        "#Se genera una solucion aleatoria con comienzo en en el nodo 0\n",
        "def crear_solucion(Nodos):\n",
        "  solucion = [Nodos[0]]\n",
        "  for n in Nodos[1:]:\n",
        "    solucion = solucion + [random.choice(list(set(Nodos) - set({Nodos[0]}) - set(solucion)))]\n",
        "  return solucion\n",
        "\n",
        "#Devuelve la distancia entre dos nodos\n",
        "def distancia(a,b, problem):\n",
        "  return problem.get_weight(a,b)\n",
        "\n",
        "#Devuelve la distancia total de una trayectoria/solucion\n",
        "def distancia_total(solucion, problem):\n",
        "  distancia_total = 0\n",
        "  for i in range(len(solucion)-1):\n",
        "    distancia_total += distancia(solucion[i] ,solucion[i+1] ,  problem)\n",
        "  return distancia_total + distancia(solucion[len(solucion)-1] ,solucion[0], problem)\n",
        "\n",
        "\n"
      ],
      "execution_count": 5,
      "outputs": []
    },
    {
      "cell_type": "markdown",
      "source": [
        "#BUSQUEDA ALEATORIA"
      ],
      "metadata": {
        "id": "zfwRoUPDYVTr"
      }
    },
    {
      "cell_type": "code",
      "source": [
        "###############################################################################\n",
        "# BUSQUEDA ALEATORIA\n",
        "###############################################################################\n",
        "\n",
        "def busqueda_aleatoria(problem, N):\n",
        "  #N es el numero de iteraciones\n",
        "  Nodos = list(problem.get_nodes())\n",
        "\n",
        "  mejor_solucion = []\n",
        "  #mejor_distancia = 10e100                         #Inicializamos con un valor alto\n",
        "  mejor_distancia = float('inf')                    #Inicializamos con un valor alto\n",
        "\n",
        "  for i in range(N):                                #Criterio de parada: repetir N veces pero podemos incluir otros\n",
        "    solucion = crear_solucion(Nodos)                #Genera una solucion aleatoria\n",
        "    distancia = distancia_total(solucion, problem)  #Calcula el valor objetivo(distancia total)\n",
        "\n",
        "    if distancia < mejor_distancia:                 #Compara con la mejor obtenida hasta ahora\n",
        "      mejor_solucion = solucion\n",
        "      mejor_distancia = distancia\n",
        "\n",
        "\n",
        "  print(\"Mejor solución:\" , mejor_solucion)\n",
        "  print(\"Distancia     :\" , mejor_distancia)\n",
        "  return mejor_solucion\n",
        "\n",
        "\n",
        "#Busqueda aleatoria con 5000 iteraciones\n",
        "solucion = busqueda_aleatoria(problem, 10000)"
      ],
      "metadata": {
        "id": "U7FEJ5OHG2vl",
        "colab": {
          "base_uri": "https://localhost:8080/",
          "height": 0
        },
        "outputId": "65d5c0c7-76e2-4b94-8130-90b30fbedfc2"
      },
      "execution_count": 6,
      "outputs": [
        {
          "output_type": "stream",
          "name": "stdout",
          "text": [
            "Mejor solución: [0, 7, 31, 17, 34, 5, 41, 29, 2, 37, 25, 10, 26, 14, 15, 1, 16, 32, 6, 30, 22, 38, 28, 3, 4, 21, 9, 39, 23, 24, 20, 36, 18, 12, 13, 19, 27, 8, 33, 35, 40, 11]\n",
            "Distancia     : 3645\n"
          ]
        }
      ]
    },
    {
      "cell_type": "markdown",
      "source": [
        "#BUSQUEDA LOCAL"
      ],
      "metadata": {
        "id": "gxyEjqm8YZIk"
      }
    },
    {
      "cell_type": "code",
      "source": [
        "###############################################################################\n",
        "# BUSQUEDA LOCAL\n",
        "###############################################################################\n",
        "def genera_vecina(solucion):\n",
        "  #Generador de soluciones vecinas: 2-opt (intercambiar 2 nodos) Si hay N nodos se generan (N-1)x(N-2)/2 soluciones\n",
        "  #Se puede modificar para aplicar otros generadores distintos que 2-opt\n",
        "  #print(solucion)\n",
        "  mejor_solucion = []\n",
        "  # mejor_distancia = 10e100\n",
        "  mejor_distancia = float('inf')\n",
        "  for i in range(1,len(solucion)-1):          #Recorremos todos los nodos en bucle doble para evaluar todos los intercambios 2-opt\n",
        "    for j in range(i+1, len(solucion)):\n",
        "\n",
        "      #Se genera una nueva solución intercambiando los dos nodos i,j:\n",
        "      #  (usamos el operador + que para listas en python las concatena) : ej.: [1,2] + [3] = [1,2,3]\n",
        "      vecina = solucion[:i] + [solucion[j]] + solucion[i+1:j] + [solucion[i]] + solucion[j+1:] # swap de i con j\n",
        "\n",
        "      #Se evalua la nueva solución ...\n",
        "      distancia_vecina = distancia_total(vecina, problem)\n",
        "\n",
        "      #... para guardarla si mejora las anteriores\n",
        "      if distancia_vecina <= mejor_distancia:\n",
        "        mejor_distancia = distancia_vecina\n",
        "        mejor_solucion = vecina\n",
        "  return mejor_solucion\n",
        "\n",
        "\n",
        "#solucion = [1, 47, 13, 41, 40, 19, 42, 44, 37, 5, 22, 28, 3, 2, 29, 21, 50, 34, 30, 9, 16, 11, 38, 49, 10, 39, 33, 45, 15, 24, 43, 26, 31, 36, 35, 20, 8, 7, 23, 48, 27, 12, 17, 4, 18, 25, 14, 6, 51, 46, 32]\n",
        "print(\"Distancia Solucion Incial:\" , distancia_total(solucion, problem))\n",
        "\n",
        "\n",
        "nueva_solucion = genera_vecina(solucion)\n",
        "print(\"Distancia Mejor Solucion Local:\", distancia_total(nueva_solucion, problem))\n"
      ],
      "metadata": {
        "colab": {
          "base_uri": "https://localhost:8080/",
          "height": 0
        },
        "id": "sOo-N3yIX7bp",
        "outputId": "3ec360c4-0e07-457e-c24d-b0b4f4b9896b"
      },
      "execution_count": 7,
      "outputs": [
        {
          "output_type": "stream",
          "name": "stdout",
          "text": [
            "Distancia Solucion Incial: 3645\n",
            "Distancia Mejor Solucion Local: 3436\n"
          ]
        }
      ]
    },
    {
      "cell_type": "markdown",
      "source": [
        "Alteración del código anterior, uso de la búsqueda aleatoria inicial para darle un mejor candidato de entrada a la búsqueda local"
      ],
      "metadata": {
        "id": "hIRFHDo2EQ5w"
      }
    },
    {
      "cell_type": "code",
      "source": [
        "# Búsqueda aleatoria\n",
        "solucion = busqueda_aleatoria(problem, 5000)\n",
        "\n",
        "# Búsqueda local\n",
        "print(\"Distancia Solucion Incial:\" , distancia_total(solucion, problem))\n",
        "\n",
        "nueva_solucion = genera_vecina(solucion)\n",
        "print(\"Distancia Mejor Solucion Local:\", distancia_total(nueva_solucion, problem))"
      ],
      "metadata": {
        "colab": {
          "base_uri": "https://localhost:8080/",
          "height": 0
        },
        "id": "1E-ALm29EdAj",
        "outputId": "69ccd579-9eb1-4a8c-872f-86d768b952c0"
      },
      "execution_count": 8,
      "outputs": [
        {
          "output_type": "stream",
          "name": "stdout",
          "text": [
            "Mejor solución: [0, 21, 41, 11, 3, 29, 22, 18, 25, 24, 40, 38, 26, 27, 30, 39, 9, 23, 34, 16, 6, 37, 35, 4, 32, 2, 33, 20, 1, 17, 10, 15, 31, 8, 28, 12, 5, 14, 7, 36, 13, 19]\n",
            "Distancia     : 3779\n",
            "Distancia Solucion Incial: 3779\n",
            "Distancia Mejor Solucion Local: 3515\n"
          ]
        }
      ]
    },
    {
      "cell_type": "markdown",
      "source": [
        "## Búsqueda local, mejora"
      ],
      "metadata": {
        "id": "aeWAHyb1E951"
      }
    },
    {
      "cell_type": "code",
      "source": [
        "#Busqueda Local:\n",
        "#  - Sobre el operador de vecindad 2-opt(funcion genera_vecina)\n",
        "#  - Sin criterio de parada, se para cuando no es posible mejorar.\n",
        "def busqueda_local(problem):\n",
        "  mejor_solucion = []\n",
        "\n",
        "  #Generar una solucion inicial de referencia(aleatoria)\n",
        "  solucion_referencia = crear_solucion(Nodos)\n",
        "  mejor_distancia = distancia_total(solucion_referencia, problem)\n",
        "  print(\"Solución inicial: \", solucion_referencia)\n",
        "  print(\"Distancia inicial: \", mejor_distancia)\n",
        "\n",
        "  iteracion=0             #Un contador para saber las iteraciones que hacemos\n",
        "  while(1):\n",
        "    iteracion +=1         #Incrementamos el contador\n",
        "    #print('#',iteracion)\n",
        "\n",
        "    #Obtenemos la mejor vecina ...\n",
        "    vecina = genera_vecina(solucion_referencia)\n",
        "\n",
        "    #... y la evaluamos para ver si mejoramos respecto a lo encontrado hasta el momento\n",
        "    distancia_vecina = distancia_total(vecina, problem)\n",
        "\n",
        "    #Si no mejoramos hay que terminar. Hemos llegado a un minimo local(según nuestro operador de vencindad 2-opt)\n",
        "    if distancia_vecina < mejor_distancia:\n",
        "      #mejor_solucion = copy.deepcopy(vecina)   #Con copia profunda. Las copias en python son por referencia\n",
        "      mejor_solucion = vecina                   #Guarda la mejor solución encontrada\n",
        "      mejor_distancia = distancia_vecina\n",
        "\n",
        "    else:\n",
        "      print(\"En la iteracion \", iteracion, \", la mejor solución encontrada es:\" , mejor_solucion)\n",
        "      print(\"Distancia     :\" , mejor_distancia)\n",
        "      return mejor_solucion\n",
        "\n",
        "    solucion_referencia = vecina\n",
        "\n",
        "sol = busqueda_local(problem )"
      ],
      "metadata": {
        "colab": {
          "base_uri": "https://localhost:8080/",
          "height": 0
        },
        "id": "2DKvldWcYOU9",
        "outputId": "75781a26-1b8b-47e1-a98c-dd45ac7c4d9f"
      },
      "execution_count": 10,
      "outputs": [
        {
          "output_type": "stream",
          "name": "stdout",
          "text": [
            "Solución inicial:  [0, 6, 23, 16, 24, 35, 5, 32, 13, 19, 12, 33, 8, 25, 21, 28, 7, 26, 27, 36, 11, 1, 40, 10, 17, 34, 15, 4, 37, 31, 39, 22, 2, 29, 38, 20, 18, 9, 30, 14, 3, 41]\n",
            "Distancia inicial:  4991\n",
            "En la iteracion  39 , la mejor solución encontrada es: [0, 1, 7, 17, 36, 35, 31, 3, 6, 19, 13, 5, 26, 18, 12, 11, 25, 41, 40, 24, 21, 23, 8, 10, 4, 37, 15, 16, 14, 30, 29, 9, 39, 22, 38, 34, 33, 20, 32, 28, 2, 27]\n",
            "Distancia     : 1726\n"
          ]
        }
      ]
    },
    {
      "cell_type": "markdown",
      "source": [
        "# Multi-partida"
      ],
      "metadata": {
        "id": "ufxhnwR4HcoK"
      }
    },
    {
      "cell_type": "code",
      "source": [
        "def busqueda_local_mejorada(solucion, problem):\n",
        "  mejor_solucion = []\n",
        "\n",
        "  #Generar una solucion inicial de referencia(aleatoria)\n",
        "  # print(\"Solucion dentro: \", solucion)\n",
        "  solucion_referencia = solucion\n",
        "  mejor_distancia = distancia_total(solucion_referencia, problem)\n",
        "\n",
        "  iteracion=0             #Un contador para saber las iteraciones que hacemos\n",
        "  while(1):\n",
        "    iteracion +=1         #Incrementamos el contador\n",
        "    #print('#',iteracion)\n",
        "\n",
        "    #Obtenemos la mejor vecina ...\n",
        "    vecina = genera_vecina(solucion_referencia)\n",
        "\n",
        "    #... y la evaluamos para ver si mejoramos respecto a lo encontrado hasta el momento\n",
        "    distancia_vecina = distancia_total(vecina, problem)\n",
        "\n",
        "    #Si no mejoramos hay que terminar. Hemos llegado a un minimo local(según nuestro operador de vencindad 2-opt)\n",
        "    if distancia_vecina < mejor_distancia:\n",
        "      # print(\"Distancia vecina: \", distancia_vecina)\n",
        "      # print(\"vecina: \", vecina)\n",
        "      #mejor_solucion = copy.deepcopy(vecina)   #Con copia profunda. Las copias en python son por referencia\n",
        "      mejor_solucion = vecina                   #Guarda la mejor solución encontrada\n",
        "      mejor_distancia = distancia_vecina\n",
        "\n",
        "    else:\n",
        "      # print(\"Return: \", mejor_solucion)\n",
        "      return mejor_solucion\n",
        "\n",
        "    solucion_referencia = vecina\n",
        "\n",
        "def busqueda_aleatoria_modificada(problem, N):\n",
        "  #N es el numero de iteraciones\n",
        "  Nodos = list(problem.get_nodes())\n",
        "\n",
        "  mejor_solucion = []\n",
        "  mejor_distancia = float('inf')                    #Inicializamos con un valor alto\n",
        "\n",
        "  for i in range(N):                                #Criterio de parada: repetir N veces pero podemos incluir otros\n",
        "    solucion = crear_solucion(Nodos)                #Genera una solucion aleatoria\n",
        "    distancia = distancia_total(solucion, problem)  #Calcula el valor objetivo(distancia total)\n",
        "\n",
        "    if distancia < mejor_distancia:                 #Compara con la mejor obtenida hasta ahora\n",
        "      mejor_solucion = solucion\n",
        "      mejor_distancia = distancia\n",
        "\n",
        "  return mejor_solucion"
      ],
      "metadata": {
        "id": "Ui28J_7QNyhZ"
      },
      "execution_count": 8,
      "outputs": []
    },
    {
      "cell_type": "code",
      "source": [
        "#Busqueda Local con multi-partida:\n",
        "def busqueda_multi_partida(problem):\n",
        "  # solución de referencia\n",
        "  mejor_solucion = crear_solucion(Nodos)\n",
        "  solucion = mejor_solucion\n",
        "  mejor_distancia = distancia_total(mejor_solucion, problem)\n",
        "  print(\"Solución inicial: \", mejor_solucion)\n",
        "  print(\"Distancia inicial: \", mejor_distancia)\n",
        "\n",
        "  # multi-arranque\n",
        "  for k in range(50):\n",
        "    if k != 0:\n",
        "      # Nuevo arranque\n",
        "      # Elección aleatoria de solución inicial\n",
        "      solucion = crear_solucion(Nodos)\n",
        "      # O pequeña búsqueda aleatoria\n",
        "      #solucion = busqueda_aleatoria_modificada(problem, 500)\n",
        "\n",
        "    solucion = busqueda_local_mejorada(solucion, problem)\n",
        "    distancia = distancia_total(solucion, problem)\n",
        "\n",
        "    if distancia < mejor_distancia:\n",
        "      # poner distancias nueva y solucion\n",
        "      print(f\"Iteración {k}, distancia: {distancia}\")\n",
        "      mejor_solucion = solucion\n",
        "      mejor_distancia = distancia\n",
        "\n",
        "  # devolver solucion\n",
        "  return mejor_solucion\n",
        "\n",
        "sol = busqueda_multi_partida(problem)\n",
        "print(\"Solución final: \", sol)\n",
        "print(\"Con distancia: \", distancia_total(sol, problem))"
      ],
      "metadata": {
        "colab": {
          "base_uri": "https://localhost:8080/",
          "height": 0
        },
        "id": "QwlBI8f-IYZB",
        "outputId": "a526af4f-20b5-48ec-e82a-397c05925b18"
      },
      "execution_count": 34,
      "outputs": [
        {
          "output_type": "stream",
          "name": "stdout",
          "text": [
            "Solución inicial:  [0, 21, 27, 41, 7, 23, 34, 3, 19, 25, 14, 2, 22, 26, 4, 29, 31, 35, 36, 32, 5, 38, 39, 37, 15, 40, 30, 6, 1, 20, 24, 10, 12, 33, 16, 17, 18, 8, 28, 9, 11, 13]\n",
            "Distancia inicial:  4660\n",
            "Iteración 0, distancia: 1764\n",
            "Iteración 1, distancia: 1750\n",
            "Iteración 2, distancia: 1657\n",
            "Iteración 7, distancia: 1543\n",
            "Solución final:  [0, 1, 6, 4, 3, 2, 27, 30, 38, 22, 39, 24, 40, 21, 9, 29, 28, 8, 23, 41, 25, 10, 26, 5, 18, 12, 11, 13, 19, 14, 16, 15, 37, 7, 20, 34, 33, 35, 36, 17, 31, 32]\n",
            "Con distancia:  1543\n"
          ]
        }
      ]
    },
    {
      "cell_type": "markdown",
      "source": [
        "# Búsqueda en entornos variables (BNS) multi-partida"
      ],
      "metadata": {
        "id": "Oot1XA6sNOJe"
      }
    },
    {
      "cell_type": "markdown",
      "source": [
        "Ejemplo 2 operadores:\n",
        "\n",
        " - SWAP\n",
        " - Insertion (insertar un valor en todos los lugares)\n",
        "\n",
        "Si con el SWAP no mejora entonces empezar a usar el Insertion para intentar mejorar la solución."
      ],
      "metadata": {
        "id": "zJlvcJ2aJAlQ"
      }
    },
    {
      "cell_type": "code",
      "source": [
        "def busqueda_local_insercion(solucion, problem):\n",
        "  mejor_solucion = solucion.copy()\n",
        "  mejor_distancia = distancia_total(mejor_solucion, problem)\n",
        "\n",
        "  for i in range(len(solucion)-1):\n",
        "    vi = solucion[i]\n",
        "    for j in range(1,len(solucion)):\n",
        "      temp = copy.deepcopy(solucion)\n",
        "      vj = temp[j]\n",
        "      temp[i] = vj\n",
        "      temp[j] = vi\n",
        "\n",
        "      distancia = distancia_total(temp, problem)\n",
        "      # print(\"Temp: \", temp)\n",
        "      # print(\"Distancia: \", distancia)\n",
        "      if distancia < mejor_distancia:\n",
        "        # poner distancias nueva y solucion\n",
        "        mejor_solucion = temp\n",
        "        mejor_distancia = distancia\n",
        "\n",
        "  return mejor_solucion\n",
        "\n",
        "def busqueda_local_SWAP(solucion, problem):\n",
        "  mejor_solucion = []\n",
        "\n",
        "  #Generar una solucion inicial de referencia(aleatoria)\n",
        "  solucion_referencia = copy.deepcopy(solucion)\n",
        "  mejor_distancia = distancia_total(solucion_referencia, problem)\n",
        "\n",
        "  iteracion=0             #Un contador para saber las iteraciones que hacemos\n",
        "  while(1):\n",
        "    iteracion +=1         #Incrementamos el contador\n",
        "    #print('#',iteracion)\n",
        "\n",
        "    #Obtenemos la mejor vecina ...\n",
        "    vecina = genera_vecina(solucion_referencia)\n",
        "\n",
        "    #... y la evaluamos para ver si mejoramos respecto a lo encontrado hasta el momento\n",
        "    distancia_vecina = distancia_total(vecina, problem)\n",
        "\n",
        "    #Si no mejoramos hay que terminar. Hemos llegado a un minimo local(según nuestro operador de vencindad 2-opt)\n",
        "    if distancia_vecina < mejor_distancia:\n",
        "      mejor_solucion = vecina                   #Guarda la mejor solución encontrada\n",
        "      mejor_distancia = distancia_vecina\n",
        "\n",
        "    else:\n",
        "      # print(\"Return: \", mejor_solucion)\n",
        "      return mejor_solucion\n",
        "\n",
        "    solucion_referencia = vecina\n",
        "\n",
        "def busqueda_entornos_variables_multi_partida(solucion, tiempo, problem):\n",
        "\n",
        "  mejor_solucion = solucion\n",
        "  solucion = copy.deepcopy(mejor_solucion)\n",
        "  mejor_distancia = distancia_total(mejor_solucion, problem)\n",
        "\n",
        "  terminado = False\n",
        "\n",
        "  iteracion = 0\n",
        "  t = time.time()\n",
        "\n",
        "  while not terminado:\n",
        "    if iteracion%5 == 0:\n",
        "      print(f\"Iteración {iteracion}, time: {time.time()-t}, mejor distancia: {mejor_distancia}\")\n",
        "    # saltar primera iteracion\n",
        "    if iteracion != 0:\n",
        "      # print(\"Entra\")\n",
        "      solucion = crear_solucion(Nodos)\n",
        "\n",
        "    # búsqueda local mediante inserción\n",
        "    solucion = busqueda_local_insercion(solucion, problem)\n",
        "    # print(\"Inser: \",solucion)\n",
        "\n",
        "    # búsqueda local mediante SWAP\n",
        "    solucion = busqueda_local_SWAP(solucion, problem)\n",
        "    # print(\"Vecin: \",solucion)\n",
        "\n",
        "    # verificar distancia\n",
        "    distancia = distancia_total(solucion, problem)\n",
        "    # print(\"Temp: \", temp)\n",
        "    # print(\"Distancia: \", distancia)\n",
        "    if distancia < mejor_distancia:\n",
        "      # poner distancias nueva y solucion\n",
        "      mejor_solucion = copy.deepcopy(solucion)\n",
        "      mejor_distancia = distancia\n",
        "\n",
        "    # condición de salida del bucle\n",
        "    if time.time()-t > tiempo:\n",
        "      terminado = True\n",
        "\n",
        "    iteracion += 1\n",
        "\n",
        "  return mejor_solucion\n",
        "\n",
        "sol_ini = crear_solucion(Nodos)\n",
        "\n",
        "print(\"Solución inicial: \", sol_ini)\n",
        "# sol = busqueda_local_insercion(sol_ini, problem)\n",
        "sol = busqueda_entornos_variables_multi_partida(sol_ini, 60*10, problem)\n",
        "print(\"Solución final: \", sol)\n",
        "print(\"Con distancia: \", distancia_total(sol, problem))"
      ],
      "metadata": {
        "colab": {
          "base_uri": "https://localhost:8080/",
          "height": 0
        },
        "id": "N-8pWqyMNgD6",
        "outputId": "42e1b383-8979-43a6-80ec-888cea294a4f"
      },
      "execution_count": 13,
      "outputs": [
        {
          "output_type": "stream",
          "name": "stdout",
          "text": [
            "Solución inicial:  [0, 5, 14, 27, 10, 6, 34, 39, 1, 40, 26, 30, 12, 36, 4, 31, 23, 35, 37, 38, 32, 11, 20, 18, 22, 17, 28, 2, 19, 15, 3, 41, 7, 9, 24, 13, 33, 25, 8, 16, 29, 21]\n",
            "Iteración 0, time: 1.430511474609375e-06, mejor distancia: 5512\n",
            "Iteración 5, time: 15.922852277755737, mejor distancia: 1676\n",
            "Iteración 10, time: 34.045132875442505, mejor distancia: 1623\n",
            "Iteración 15, time: 53.140644550323486, mejor distancia: 1623\n",
            "Iteración 20, time: 72.54646110534668, mejor distancia: 1579\n",
            "Iteración 25, time: 90.28682088851929, mejor distancia: 1579\n",
            "Iteración 30, time: 106.35286021232605, mejor distancia: 1579\n",
            "Iteración 35, time: 123.59734869003296, mejor distancia: 1502\n",
            "Iteración 40, time: 142.18990874290466, mejor distancia: 1502\n",
            "Iteración 45, time: 158.48347640037537, mejor distancia: 1502\n",
            "Iteración 50, time: 175.84734678268433, mejor distancia: 1502\n",
            "Iteración 55, time: 191.79933381080627, mejor distancia: 1502\n",
            "Iteración 60, time: 211.195415019989, mejor distancia: 1502\n",
            "Iteración 65, time: 226.72948908805847, mejor distancia: 1502\n",
            "Iteración 70, time: 243.47152733802795, mejor distancia: 1502\n",
            "Iteración 75, time: 262.5954713821411, mejor distancia: 1476\n",
            "Iteración 80, time: 281.0244278907776, mejor distancia: 1476\n",
            "Iteración 85, time: 297.3568696975708, mejor distancia: 1476\n",
            "Iteración 90, time: 313.48455119132996, mejor distancia: 1476\n",
            "Iteración 95, time: 331.832665681839, mejor distancia: 1476\n",
            "Iteración 100, time: 350.5243856906891, mejor distancia: 1476\n",
            "Iteración 105, time: 367.67851519584656, mejor distancia: 1476\n",
            "Iteración 110, time: 385.4772665500641, mejor distancia: 1476\n",
            "Iteración 115, time: 404.0156726837158, mejor distancia: 1476\n",
            "Iteración 120, time: 421.50008893013, mejor distancia: 1476\n",
            "Iteración 125, time: 439.5622444152832, mejor distancia: 1476\n",
            "Iteración 130, time: 457.85222482681274, mejor distancia: 1476\n",
            "Iteración 135, time: 473.71797013282776, mejor distancia: 1476\n",
            "Iteración 140, time: 491.8571615219116, mejor distancia: 1476\n",
            "Iteración 145, time: 511.06534242630005, mejor distancia: 1476\n",
            "Iteración 150, time: 527.3330707550049, mejor distancia: 1476\n",
            "Iteración 155, time: 543.4654603004456, mejor distancia: 1476\n",
            "Iteración 160, time: 561.7864594459534, mejor distancia: 1476\n",
            "Iteración 165, time: 578.5837728977203, mejor distancia: 1476\n",
            "Iteración 170, time: 596.1195013523102, mejor distancia: 1476\n",
            "Solución final:  [0, 1, 32, 31, 35, 36, 17, 7, 37, 15, 16, 14, 19, 13, 5, 26, 6, 4, 27, 28, 29, 30, 34, 20, 33, 38, 22, 24, 40, 21, 39, 9, 23, 41, 25, 11, 12, 18, 10, 8, 2, 3]\n",
            "Con distancia:  1476\n"
          ]
        }
      ]
    },
    {
      "cell_type": "code",
      "source": [],
      "metadata": {
        "id": "Rd9Sqx7B9hlE"
      },
      "execution_count": null,
      "outputs": []
    }
  ]
}