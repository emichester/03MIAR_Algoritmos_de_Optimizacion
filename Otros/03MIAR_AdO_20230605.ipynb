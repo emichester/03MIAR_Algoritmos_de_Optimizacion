{
  "nbformat": 4,
  "nbformat_minor": 0,
  "metadata": {
    "colab": {
      "provenance": [],
      "authorship_tag": "ABX9TyPPstLu7sTNkVIY7nS7G4SP",
      "include_colab_link": true
    },
    "kernelspec": {
      "name": "python3",
      "display_name": "Python 3"
    },
    "language_info": {
      "name": "python"
    }
  },
  "cells": [
    {
      "cell_type": "markdown",
      "metadata": {
        "id": "view-in-github",
        "colab_type": "text"
      },
      "source": [
        "<a href=\"https://colab.research.google.com/github/emichester/03MIAR_Algoritmos_de_Optimizacion/blob/main/Otros/03MIAR_AdO_20230605.ipynb\" target=\"_parent\"><img src=\"https://colab.research.google.com/assets/colab-badge.svg\" alt=\"Open In Colab\"/></a>"
      ]
    },
    {
      "cell_type": "code",
      "source": [
        "1+1"
      ],
      "metadata": {
        "colab": {
          "base_uri": "https://localhost:8080/"
        },
        "id": "9lAikC0nAM1c",
        "outputId": "54ef9bf2-0489-48e7-ccda-17beba16671f"
      },
      "execution_count": 1,
      "outputs": [
        {
          "output_type": "execute_result",
          "data": {
            "text/plain": [
              "2"
            ]
          },
          "metadata": {},
          "execution_count": 1
        }
      ]
    },
    {
      "cell_type": "code",
      "execution_count": 13,
      "metadata": {
        "id": "QOuHm8Op-8FQ"
      },
      "outputs": [],
      "source": [
        "def fibonacci_recursivo(n):\n",
        "    if n == 0:\n",
        "        return 1\n",
        "    elif n==1:\n",
        "        return 1\n",
        "    else:\n",
        "        return fibonacci_recursivo(n-1)+fibonacci_recursivo(n-2)\n",
        "\n",
        "def fibonacci_iterativo(n):\n",
        "    if n <= 0:\n",
        "        return 0\n",
        "    elif n == 1:\n",
        "        return 1\n",
        "\n",
        "    fib_prev, fib_current = 0, 1\n",
        "\n",
        "    for _ in range(2, n + 1):\n",
        "        fib_prev, fib_current = fib_current, fib_prev + fib_current\n",
        "\n",
        "    return fib_current"
      ]
    },
    {
      "cell_type": "code",
      "source": [
        "%%time\n",
        "fibonacci_recursivo(20)"
      ],
      "metadata": {
        "colab": {
          "base_uri": "https://localhost:8080/"
        },
        "id": "9clZgOktAaet",
        "outputId": "a3ee5aaa-812f-4575-ebc0-c3b5ad8f8871"
      },
      "execution_count": 15,
      "outputs": [
        {
          "output_type": "stream",
          "name": "stdout",
          "text": [
            "CPU times: user 2.24 ms, sys: 774 µs, total: 3.02 ms\n",
            "Wall time: 3.02 ms\n"
          ]
        },
        {
          "output_type": "execute_result",
          "data": {
            "text/plain": [
              "10946"
            ]
          },
          "metadata": {},
          "execution_count": 15
        }
      ]
    },
    {
      "cell_type": "code",
      "source": [
        "%%time\n",
        "fibonacci_iterativo(20)"
      ],
      "metadata": {
        "colab": {
          "base_uri": "https://localhost:8080/"
        },
        "id": "uyQH58KYJ3SX",
        "outputId": "d8c099a2-22dd-451d-e9db-b98a433b37f4"
      },
      "execution_count": 16,
      "outputs": [
        {
          "output_type": "stream",
          "name": "stdout",
          "text": [
            "CPU times: user 7 µs, sys: 1e+03 ns, total: 8 µs\n",
            "Wall time: 10.5 µs\n"
          ]
        },
        {
          "output_type": "execute_result",
          "data": {
            "text/plain": [
              "6765"
            ]
          },
          "metadata": {},
          "execution_count": 16
        }
      ]
    },
    {
      "cell_type": "code",
      "source": [],
      "metadata": {
        "id": "0sYVXmZnJ8YX"
      },
      "execution_count": null,
      "outputs": []
    }
  ]
}