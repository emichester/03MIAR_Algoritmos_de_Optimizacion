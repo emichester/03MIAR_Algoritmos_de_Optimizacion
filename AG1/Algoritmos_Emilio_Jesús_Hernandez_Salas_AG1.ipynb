{
  "nbformat": 4,
  "nbformat_minor": 0,
  "metadata": {
    "colab": {
      "provenance": [],
      "toc_visible": true,
      "authorship_tag": "ABX9TyOP+zWt1MQY8vj0FKpBGuLU",
      "include_colab_link": true
    },
    "kernelspec": {
      "name": "python3",
      "display_name": "Python 3"
    },
    "language_info": {
      "name": "python"
    }
  },
  "cells": [
    {
      "cell_type": "markdown",
      "metadata": {
        "id": "view-in-github",
        "colab_type": "text"
      },
      "source": [
        "<a href=\"https://colab.research.google.com/github/emichester/03MIAR_Algoritmos_de_Optimizacion/blob/main/AG1/Algoritmos_Emilio_Jes%C3%BAs_Hernandez_Salas_AG1.ipynb\" target=\"_parent\"><img src=\"https://colab.research.google.com/assets/colab-badge.svg\" alt=\"Open In Colab\"/></a>"
      ]
    },
    {
      "cell_type": "markdown",
      "source": [
        "# Actividad Guiada 1\n",
        "# Emilio Jesús Hernández Salas\n",
        "\n",
        "- Link repositorio de GitHub: [03MIAR_Algoritmos_de_Optimizacion](https://github.com/emichester/03MIAR_Algoritmos_de_Optimizacion)"
      ],
      "metadata": {
        "id": "iBmP-ZPh3BIW"
      }
    },
    {
      "cell_type": "markdown",
      "source": [
        "## Problema de las Torres de Hanoi"
      ],
      "metadata": {
        "id": "hSIG6DVO3ZrH"
      }
    },
    {
      "cell_type": "code",
      "source": [
        "def torres_hanoi(N, origen, destino, pivote):\n",
        "    if N ==1:\n",
        "        print(f\"Mover bloque {N} desde {origen} a {destino}.\")\n",
        "        return \n",
        "    \n",
        "    torres_hanoi(N-1, origen, pivote, destino)\n",
        "    print(f\"Mover bloque {N} desde {origen} a {destino}.\")\n",
        "    torres_hanoi(N-1, pivote, destino, origen)\n",
        "\n",
        "torres_hanoi(4, 1, 3, 2)"
      ],
      "metadata": {
        "colab": {
          "base_uri": "https://localhost:8080/"
        },
        "id": "sER4Ihx33Uzm",
        "outputId": "cfbb0960-91c9-4008-acf0-a1caa1d2c0ce"
      },
      "execution_count": 4,
      "outputs": [
        {
          "output_type": "stream",
          "name": "stdout",
          "text": [
            "Mover bloque 1 desde 1 a 2.\n",
            "Mover bloque 2 desde 1 a 3.\n",
            "Mover bloque 1 desde 2 a 3.\n",
            "Mover bloque 3 desde 1 a 2.\n",
            "Mover bloque 1 desde 3 a 1.\n",
            "Mover bloque 2 desde 3 a 2.\n",
            "Mover bloque 1 desde 1 a 2.\n",
            "Mover bloque 4 desde 1 a 3.\n",
            "Mover bloque 1 desde 2 a 3.\n",
            "Mover bloque 2 desde 2 a 1.\n",
            "Mover bloque 1 desde 3 a 1.\n",
            "Mover bloque 3 desde 2 a 3.\n",
            "Mover bloque 1 desde 1 a 2.\n",
            "Mover bloque 2 desde 1 a 3.\n",
            "Mover bloque 1 desde 2 a 3.\n"
          ]
        }
      ]
    }
  ]
}