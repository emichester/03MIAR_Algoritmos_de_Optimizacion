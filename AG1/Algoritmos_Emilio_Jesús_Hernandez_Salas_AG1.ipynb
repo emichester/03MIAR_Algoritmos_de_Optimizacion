{
  "nbformat": 4,
  "nbformat_minor": 0,
  "metadata": {
    "colab": {
      "provenance": [],
      "toc_visible": true,
      "authorship_tag": "ABX9TyOOJM/Ssx+90C0r8B1Wza0i",
      "include_colab_link": true
    },
    "kernelspec": {
      "name": "python3",
      "display_name": "Python 3"
    },
    "language_info": {
      "name": "python"
    }
  },
  "cells": [
    {
      "cell_type": "markdown",
      "metadata": {
        "id": "view-in-github",
        "colab_type": "text"
      },
      "source": [
        "<a href=\"https://colab.research.google.com/github/emichester/03MIAR_Algoritmos_de_Optimizacion/blob/main/AG1/Algoritmos_Emilio_Jes%C3%BAs_Hernandez_Salas_AG1.ipynb\" target=\"_parent\"><img src=\"https://colab.research.google.com/assets/colab-badge.svg\" alt=\"Open In Colab\"/></a>"
      ]
    },
    {
      "cell_type": "markdown",
      "source": [
        "# Actividad Guiada 1\n",
        "# Emilio Jesús Hernández Salas\n",
        "\n",
        "- Link repositorio de GitHub: [03MIAR_Algoritmos_de_Optimizacion](https://github.com/emichester/03MIAR_Algoritmos_de_Optimizacion)"
      ],
      "metadata": {
        "id": "iBmP-ZPh3BIW"
      }
    },
    {
      "cell_type": "markdown",
      "source": [
        "## Problema: Torres de Hanoi"
      ],
      "metadata": {
        "id": "hSIG6DVO3ZrH"
      }
    },
    {
      "cell_type": "code",
      "source": [
        "def torres_hanoi(N, origen, destino, pivote):\n",
        "    if N ==1:\n",
        "        print(f\"Mover bloque {N} desde {origen} a {destino}.\")\n",
        "        return\n",
        "\n",
        "    torres_hanoi(N-1, origen, pivote, destino)\n",
        "    print(f\"Mover bloque {N} desde {origen} a {destino}.\")\n",
        "    torres_hanoi(N-1, pivote, destino, origen)\n",
        "\n",
        "torres_hanoi(4, 1, 3, 2)"
      ],
      "metadata": {
        "colab": {
          "base_uri": "https://localhost:8080/"
        },
        "id": "sER4Ihx33Uzm",
        "outputId": "cfbb0960-91c9-4008-acf0-a1caa1d2c0ce"
      },
      "execution_count": null,
      "outputs": [
        {
          "output_type": "stream",
          "name": "stdout",
          "text": [
            "Mover bloque 1 desde 1 a 2.\n",
            "Mover bloque 2 desde 1 a 3.\n",
            "Mover bloque 1 desde 2 a 3.\n",
            "Mover bloque 3 desde 1 a 2.\n",
            "Mover bloque 1 desde 3 a 1.\n",
            "Mover bloque 2 desde 3 a 2.\n",
            "Mover bloque 1 desde 1 a 2.\n",
            "Mover bloque 4 desde 1 a 3.\n",
            "Mover bloque 1 desde 2 a 3.\n",
            "Mover bloque 2 desde 2 a 1.\n",
            "Mover bloque 1 desde 3 a 1.\n",
            "Mover bloque 3 desde 2 a 3.\n",
            "Mover bloque 1 desde 1 a 2.\n",
            "Mover bloque 2 desde 1 a 3.\n",
            "Mover bloque 1 desde 2 a 3.\n"
          ]
        }
      ]
    },
    {
      "cell_type": "markdown",
      "source": [
        "## Problema: Cambio de monedas"
      ],
      "metadata": {
        "id": "StU0zpf-BsQs"
      }
    },
    {
      "cell_type": "code",
      "source": [
        "def cambio_monedas(CANTIDAD,SISTEMA):\n",
        "    print(\"SISTEMA: \", SISTEMA)\n",
        "    SOLUCION = [0]*len(SISTEMA)\n",
        "    VALOR_ACUMULADO = 0\n",
        "\n",
        "    for i,VALOR_MONETARIO in enumerate(SISTEMA):\n",
        "        monedas = (CANTIDAD-VALOR_ACUMULADO)//VALOR_MONETARIO\n",
        "        SOLUCION[i] = monedas\n",
        "        VALOR_ACUMULADO += monedas*VALOR_MONETARIO\n",
        "        if VALOR_ACUMULADO == CANTIDAD:\n",
        "            break\n",
        "\n",
        "    return SOLUCION\n",
        "\n",
        "SISTEMA = [25,10,5,1]\n",
        "cambio_monedas(30, SISTEMA)"
      ],
      "metadata": {
        "colab": {
          "base_uri": "https://localhost:8080/"
        },
        "id": "GwAHlo-IBtMM",
        "outputId": "54d69700-a9ad-4857-9db9-697f34d890db"
      },
      "execution_count": null,
      "outputs": [
        {
          "output_type": "stream",
          "name": "stdout",
          "text": [
            "SISTEMA:  [25, 10, 5, 1]\n"
          ]
        },
        {
          "output_type": "execute_result",
          "data": {
            "text/plain": [
              "[1, 0, 1, 0]"
            ]
          },
          "metadata": {},
          "execution_count": 11
        }
      ]
    },
    {
      "cell_type": "markdown",
      "source": [
        "## Problema: Encontrar los dos puntos más cercanos"
      ],
      "metadata": {
        "id": "G_9MT66PEjXZ"
      }
    },
    {
      "cell_type": "code",
      "source": [
        "import numpy as np\n",
        "import matplotlib.pyplot as plt\n",
        "\n",
        "PUNTOS = (np.random.rand(7)*10000).astype(np.int32)\n",
        "display(PUNTOS)\n",
        "plt.plot(PUNTOS, 'b*');"
      ],
      "metadata": {
        "colab": {
          "base_uri": "https://localhost:8080/",
          "height": 447
        },
        "id": "feUSrWv-IidZ",
        "outputId": "0446b8e6-335b-4951-e178-b9533949d193"
      },
      "execution_count": 63,
      "outputs": [
        {
          "output_type": "display_data",
          "data": {
            "text/plain": [
              "array([ 379, 1428, 3164, 9933, 7545, 9548, 7697], dtype=int32)"
            ]
          },
          "metadata": {}
        },
        {
          "output_type": "display_data",
          "data": {
            "text/plain": [
              "<Figure size 640x480 with 1 Axes>"
            ],
            "image/png": "[encoded data removed]"
          },
          "metadata": {}
        }
      ]
    },
    {
      "cell_type": "markdown",
      "source": [
        "### Fuerza bruta"
      ],
      "metadata": {
        "id": "Q10yoXzSMSHq"
      }
    },
    {
      "cell_type": "code",
      "source": [
        "def puntos_cercanos_fuerza_bruta(PUNTOS):\n",
        "    distancia = 1e6\n",
        "    SOLUCION = [0]*2\n",
        "    for i in range(0,len(PUNTOS)-1):\n",
        "        for j in range(1,len(PUNTOS)):\n",
        "            if np.abs(PUNTOS[i]-PUNTOS[j]) < distancia and i!=j:\n",
        "                distancia = np.abs(PUNTOS[i]-PUNTOS[j])\n",
        "                SOLUCION = [PUNTOS[i],PUNTOS[j]]\n",
        "                # print(SOLUCION)\n",
        "    return np.abs(SOLUCION[0]-SOLUCION[1]), SOLUCION\n",
        "\n",
        "d, pts = puntos_cercanos_fuerza_bruta(PUNTOS)\n",
        "print(\"Puntos: \",pts, \" y distancia: \", d)"
      ],
      "metadata": {
        "colab": {
          "base_uri": "https://localhost:8080/"
        },
        "id": "7kDpxJkzJWIB",
        "outputId": "174aaee5-596f-4b66-fb24-385af7d30f76"
      },
      "execution_count": 64,
      "outputs": [
        {
          "output_type": "stream",
          "name": "stdout",
          "text": [
            "Puntos:  [7545, 7697]  y distancia:  152\n"
          ]
        }
      ]
    },
    {
      "cell_type": "markdown",
      "source": [
        "## Divide y Vencerás"
      ],
      "metadata": {
        "id": "OfHoW0IYMWtA"
      }
    },
    {
      "cell_type": "code",
      "source": [
        "def puntos_cercanos_divide_y_venceras(PUNTOS):\n",
        "    dLmin = np.inf\n",
        "    dRmin = np.inf\n",
        "    dLRmin = np.inf\n",
        "    par_minL = [0]*2\n",
        "    par_minR = [0]*2\n",
        "    par_minLR = [0]*2\n",
        "\n",
        "    # La lista tiene que estar ordenada\n",
        "    PUNTOS = np.sort(PUNTOS)\n",
        "\n",
        "    if len(PUNTOS) == 1 or len(PUNTOS) == 0:\n",
        "        return np.inf, PUNTOS\n",
        "    if len(PUNTOS) == 2:\n",
        "        return np.abs(PUNTOS[0]-PUNTOS[1]), PUNTOS\n",
        "\n",
        "    divL, divR = np.array_split(PUNTOS, 2)\n",
        "    dL, par_L = puntos_cercanos_divide_y_venceras(divL)\n",
        "    dR, par_R = puntos_cercanos_divide_y_venceras(divR)\n",
        "\n",
        "    if dL < dLmin:\n",
        "        dLmin = dL\n",
        "        par_minL = par_L\n",
        "    if dR < dRmin:\n",
        "        dRmin = dR\n",
        "        par_minR = par_R\n",
        "    if dRmin > dLmin:\n",
        "        dLRmin = dLmin\n",
        "        par_minLR = par_minL\n",
        "    else:\n",
        "        dLRmin = dRmin\n",
        "        par_minLR = par_minR\n",
        "\n",
        "    dLR, par_LR = puntos_cercanos_divide_y_venceras([divL[-1],divR[0]])\n",
        "\n",
        "    if dLR < dLRmin:\n",
        "        # print(\"Puntos: \",par_minLR, \" y distancia: \", dLR)\n",
        "        par_minLR = par_LR\n",
        "        return dLR, par_minLR\n",
        "    else:\n",
        "        # print(\"Puntos: \",par_minLR, \" y distancia: \", dLRmin)\n",
        "        return dLRmin, par_minLR\n",
        "\n",
        "\n",
        "d, pts = puntos_cercanos_divide_y_venceras(PUNTOS)\n",
        "print(\"Puntos: \",pts, \" y distancia: \", d)"
      ],
      "metadata": {
        "colab": {
          "base_uri": "https://localhost:8080/"
        },
        "id": "Y5jFz56Kmcs5",
        "outputId": "207567fa-1ff3-4971-b376-074ae96612cc"
      },
      "execution_count": 65,
      "outputs": [
        {
          "output_type": "stream",
          "name": "stdout",
          "text": [
            "Puntos:  [7545 7697]  y distancia:  152\n"
          ]
        }
      ]
    },
    {
      "cell_type": "code",
      "source": [
        "np.sort(PUNTOS)"
      ],
      "metadata": {
        "colab": {
          "base_uri": "https://localhost:8080/"
        },
        "id": "StGjf0Fax9xG",
        "outputId": "d4e2bad6-92e7-4501-f68c-cd77417f4ece"
      },
      "execution_count": 60,
      "outputs": [
        {
          "output_type": "execute_result",
          "data": {
            "text/plain": [
              "array([2756, 7165, 9931], dtype=int32)"
            ]
          },
          "metadata": {},
          "execution_count": 60
        }
      ]
    }
  ]
}