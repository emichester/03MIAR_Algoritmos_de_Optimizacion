{
  "nbformat": 4,
  "nbformat_minor": 0,
  "metadata": {
    "colab": {
      "provenance": [],
      "toc_visible": true,
      "authorship_tag": "ABX9TyPeJquggnZ6MlS+lJypIpP0",
      "include_colab_link": true
    },
    "kernelspec": {
      "name": "python3",
      "display_name": "Python 3"
    },
    "language_info": {
      "name": "python"
    }
  },
  "cells": [
    {
      "cell_type": "markdown",
      "metadata": {
        "id": "view-in-github",
        "colab_type": "text"
      },
      "source": [
        "<a href=\"https://colab.research.google.com/github/emichester/03MIAR_Algoritmos_de_Optimizacion/blob/main/AG1/Algoritmos_Emilio_Jes%C3%BAs_Hernandez_Salas_AG1.ipynb\" target=\"_parent\"><img src=\"https://colab.research.google.com/assets/colab-badge.svg\" alt=\"Open In Colab\"/></a>"
      ]
    },
    {
      "cell_type": "markdown",
      "source": [
        "# Actividad Guiada 1\n",
        "# Emilio Jesús Hernández Salas\n",
        "\n",
        "- Link repositorio de GitHub: [03MIAR_Algoritmos_de_Optimizacion](https://github.com/emichester/03MIAR_Algoritmos_de_Optimizacion)"
      ],
      "metadata": {
        "id": "iBmP-ZPh3BIW"
      }
    },
    {
      "cell_type": "markdown",
      "source": [
        "## Problema: Torres de Hanoi"
      ],
      "metadata": {
        "id": "hSIG6DVO3ZrH"
      }
    },
    {
      "cell_type": "code",
      "source": [
        "def torres_hanoi(N, origen, destino, pivote):\n",
        "    if N ==1:\n",
        "        print(f\"Mover bloque {N} desde {origen} a {destino}.\")\n",
        "        return \n",
        "    \n",
        "    torres_hanoi(N-1, origen, pivote, destino)\n",
        "    print(f\"Mover bloque {N} desde {origen} a {destino}.\")\n",
        "    torres_hanoi(N-1, pivote, destino, origen)\n",
        "\n",
        "torres_hanoi(4, 1, 3, 2)"
      ],
      "metadata": {
        "colab": {
          "base_uri": "https://localhost:8080/"
        },
        "id": "sER4Ihx33Uzm",
        "outputId": "cfbb0960-91c9-4008-acf0-a1caa1d2c0ce"
      },
      "execution_count": 4,
      "outputs": [
        {
          "output_type": "stream",
          "name": "stdout",
          "text": [
            "Mover bloque 1 desde 1 a 2.\n",
            "Mover bloque 2 desde 1 a 3.\n",
            "Mover bloque 1 desde 2 a 3.\n",
            "Mover bloque 3 desde 1 a 2.\n",
            "Mover bloque 1 desde 3 a 1.\n",
            "Mover bloque 2 desde 3 a 2.\n",
            "Mover bloque 1 desde 1 a 2.\n",
            "Mover bloque 4 desde 1 a 3.\n",
            "Mover bloque 1 desde 2 a 3.\n",
            "Mover bloque 2 desde 2 a 1.\n",
            "Mover bloque 1 desde 3 a 1.\n",
            "Mover bloque 3 desde 2 a 3.\n",
            "Mover bloque 1 desde 1 a 2.\n",
            "Mover bloque 2 desde 1 a 3.\n",
            "Mover bloque 1 desde 2 a 3.\n"
          ]
        }
      ]
    },
    {
      "cell_type": "markdown",
      "source": [
        "## Problema: Cambio de monedas"
      ],
      "metadata": {
        "id": "StU0zpf-BsQs"
      }
    },
    {
      "cell_type": "code",
      "source": [
        "def cambio_monedas(CANTIDAD,SISTEMA):\n",
        "    print(\"SISTEMA: \", SISTEMA)\n",
        "    SOLUCION = [0]*len(SISTEMA)\n",
        "    VALOR_ACUMULADO = 0\n",
        "\n",
        "    for i,VALOR_MONETARIO in enumerate(SISTEMA):\n",
        "        monedas = (CANTIDAD-VALOR_ACUMULADO)//VALOR_MONETARIO\n",
        "        SOLUCION[i] = monedas\n",
        "        VALOR_ACUMULADO += monedas*VALOR_MONETARIO\n",
        "        if VALOR_ACUMULADO == CANTIDAD:\n",
        "            break\n",
        "    \n",
        "    return SOLUCION\n",
        "\n",
        "SISTEMA = [25,10,5,1]\n",
        "cambio_monedas(30, SISTEMA)"
      ],
      "metadata": {
        "colab": {
          "base_uri": "https://localhost:8080/"
        },
        "id": "GwAHlo-IBtMM",
        "outputId": "54d69700-a9ad-4857-9db9-697f34d890db"
      },
      "execution_count": 11,
      "outputs": [
        {
          "output_type": "stream",
          "name": "stdout",
          "text": [
            "SISTEMA:  [25, 10, 5, 1]\n"
          ]
        },
        {
          "output_type": "execute_result",
          "data": {
            "text/plain": [
              "[1, 0, 1, 0]"
            ]
          },
          "metadata": {},
          "execution_count": 11
        }
      ]
    },
    {
      "cell_type": "markdown",
      "source": [
        "## Problema: Encontrar los dos puntos más cercanos"
      ],
      "metadata": {
        "id": "G_9MT66PEjXZ"
      }
    },
    {
      "cell_type": "code",
      "source": [
        "import numpy as np\n",
        "import matplotlib.pyplot as plt\n",
        "\n",
        "PUNTOS = (np.random.rand(5)*10000).astype(np.int32)\n",
        "display(PUNTOS)\n",
        "plt.plot(PUNTOS, 'b*');"
      ],
      "metadata": {
        "colab": {
          "base_uri": "https://localhost:8080/",
          "height": 447
        },
        "id": "feUSrWv-IidZ",
        "outputId": "2b25378c-1194-4687-9ca4-52c8de5b7e0d"
      },
      "execution_count": 29,
      "outputs": [
        {
          "output_type": "display_data",
          "data": {
            "text/plain": [
              "array([3013, 9988, 1293, 2468, 8366], dtype=int32)"
            ]
          },
          "metadata": {}
        },
        {
          "output_type": "display_data",
          "data": {
            "text/plain": [
              "<Figure size 640x480 with 1 Axes>"
            ],
            "image/png": "[encoded data removed]"
          },
          "metadata": {}
        }
      ]
    },
    {
      "cell_type": "markdown",
      "source": [
        "### Fuerza bruta"
      ],
      "metadata": {
        "id": "Q10yoXzSMSHq"
      }
    },
    {
      "cell_type": "code",
      "source": [
        "def puntos_cercanos_fuerza_bruta(PUNTOS):\n",
        "    distancia = 1e6\n",
        "    SOLUCION = [0]*2\n",
        "    for i in range(0,len(PUNTOS)-1):\n",
        "        for j in range(1,len(PUNTOS)):\n",
        "            if np.abs(PUNTOS[i]-PUNTOS[j]) < distancia and i!=j:\n",
        "                distancia = np.abs(PUNTOS[i]-PUNTOS[j])\n",
        "                SOLUCION = [PUNTOS[i],PUNTOS[j]]\n",
        "                # print(SOLUCION)\n",
        "    print(\"Finalmente: \",SOLUCION)\n",
        "\n",
        "puntos_cercanos_fuerza_bruta(PUNTOS)"
      ],
      "metadata": {
        "colab": {
          "base_uri": "https://localhost:8080/"
        },
        "id": "7kDpxJkzJWIB",
        "outputId": "da0d8879-8ad0-46f3-86b7-acd61fc8ac3b"
      },
      "execution_count": 31,
      "outputs": [
        {
          "output_type": "stream",
          "name": "stdout",
          "text": [
            "Finalmente:  [3013, 2468]\n"
          ]
        }
      ]
    },
    {
      "cell_type": "markdown",
      "source": [
        "## Divide y Vencerás"
      ],
      "metadata": {
        "id": "OfHoW0IYMWtA"
      }
    },
    {
      "cell_type": "code",
      "source": [
        "def puntos_cercanos_divide_y_venceras(PUNTOS):\n",
        "    distancia = 1e6\n",
        "    SOLUCION = [0]*2\n",
        "    if len(PUNTOS) == 0:\n",
        "        return np.inf\n",
        "    elif len(PUNTOS) == 1:\n",
        "        return np.inf\n",
        "    else:\n",
        "        pass"
      ],
      "metadata": {
        "id": "fZuED_7AMXIp"
      },
      "execution_count": null,
      "outputs": []
    }
  ]
}