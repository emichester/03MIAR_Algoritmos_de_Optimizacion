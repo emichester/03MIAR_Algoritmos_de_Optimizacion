{
  "nbformat": 4,
  "nbformat_minor": 0,
  "metadata": {
    "colab": {
      "provenance": [],
      "toc_visible": true,
      "authorship_tag": "ABX9TyONEH+1vAAWmq+eGrBywS19",
      "include_colab_link": true
    },
    "kernelspec": {
      "name": "python3",
      "display_name": "Python 3"
    },
    "language_info": {
      "name": "python"
    }
  },
  "cells": [
    {
      "cell_type": "markdown",
      "metadata": {
        "id": "view-in-github",
        "colab_type": "text"
      },
      "source": [
        "<a href=\"https://colab.research.google.com/github/emichester/03MIAR_Algoritmos_de_Optimizacion/blob/main/AG1/Algoritmos_Emilio_Jes%C3%BAs_Hernandez_Salas_AG1.ipynb\" target=\"_parent\"><img src=\"https://colab.research.google.com/assets/colab-badge.svg\" alt=\"Open In Colab\"/></a>"
      ]
    },
    {
      "cell_type": "markdown",
      "source": [
        "# Actividad Guiada 1\n",
        "# Emilio Jesús Hernández Salas\n",
        "\n",
        "- Link repositorio de GitHub: [03MIAR_Algoritmos_de_Optimizacion](https://github.com/emichester/03MIAR_Algoritmos_de_Optimizacion)"
      ],
      "metadata": {
        "id": "iBmP-ZPh3BIW"
      }
    },
    {
      "cell_type": "markdown",
      "source": [
        "## Problema: Torres de Hanoi"
      ],
      "metadata": {
        "id": "hSIG6DVO3ZrH"
      }
    },
    {
      "cell_type": "code",
      "source": [
        "def torres_hanoi(N, origen, destino, pivote):\n",
        "    if N ==1:\n",
        "        print(f\"Mover bloque {N} desde {origen} a {destino}.\")\n",
        "        return\n",
        "\n",
        "    torres_hanoi(N-1, origen, pivote, destino)\n",
        "    print(f\"Mover bloque {N} desde {origen} a {destino}.\")\n",
        "    torres_hanoi(N-1, pivote, destino, origen)\n",
        "\n",
        "torres_hanoi(4, 1, 3, 2)"
      ],
      "metadata": {
        "colab": {
          "base_uri": "https://localhost:8080/"
        },
        "id": "sER4Ihx33Uzm",
        "outputId": "cfbb0960-91c9-4008-acf0-a1caa1d2c0ce"
      },
      "execution_count": null,
      "outputs": [
        {
          "output_type": "stream",
          "name": "stdout",
          "text": [
            "Mover bloque 1 desde 1 a 2.\n",
            "Mover bloque 2 desde 1 a 3.\n",
            "Mover bloque 1 desde 2 a 3.\n",
            "Mover bloque 3 desde 1 a 2.\n",
            "Mover bloque 1 desde 3 a 1.\n",
            "Mover bloque 2 desde 3 a 2.\n",
            "Mover bloque 1 desde 1 a 2.\n",
            "Mover bloque 4 desde 1 a 3.\n",
            "Mover bloque 1 desde 2 a 3.\n",
            "Mover bloque 2 desde 2 a 1.\n",
            "Mover bloque 1 desde 3 a 1.\n",
            "Mover bloque 3 desde 2 a 3.\n",
            "Mover bloque 1 desde 1 a 2.\n",
            "Mover bloque 2 desde 1 a 3.\n",
            "Mover bloque 1 desde 2 a 3.\n"
          ]
        }
      ]
    },
    {
      "cell_type": "markdown",
      "source": [
        "## Problema: Cambio de monedas"
      ],
      "metadata": {
        "id": "StU0zpf-BsQs"
      }
    },
    {
      "cell_type": "code",
      "source": [
        "def cambio_monedas(CANTIDAD,SISTEMA):\n",
        "    print(\"SISTEMA: \", SISTEMA)\n",
        "    SOLUCION = [0]*len(SISTEMA)\n",
        "    VALOR_ACUMULADO = 0\n",
        "\n",
        "    for i,VALOR_MONETARIO in enumerate(SISTEMA):\n",
        "        monedas = (CANTIDAD-VALOR_ACUMULADO)//VALOR_MONETARIO\n",
        "        SOLUCION[i] = monedas\n",
        "        VALOR_ACUMULADO += monedas*VALOR_MONETARIO\n",
        "        if VALOR_ACUMULADO == CANTIDAD:\n",
        "            break\n",
        "\n",
        "    return SOLUCION\n",
        "\n",
        "SISTEMA = [25,10,5,1]\n",
        "cambio_monedas(30, SISTEMA)"
      ],
      "metadata": {
        "colab": {
          "base_uri": "https://localhost:8080/"
        },
        "id": "GwAHlo-IBtMM",
        "outputId": "54d69700-a9ad-4857-9db9-697f34d890db"
      },
      "execution_count": null,
      "outputs": [
        {
          "output_type": "stream",
          "name": "stdout",
          "text": [
            "SISTEMA:  [25, 10, 5, 1]\n"
          ]
        },
        {
          "output_type": "execute_result",
          "data": {
            "text/plain": [
              "[1, 0, 1, 0]"
            ]
          },
          "metadata": {},
          "execution_count": 11
        }
      ]
    },
    {
      "cell_type": "markdown",
      "source": [
        "## Problema: Encontrar los dos puntos más cercanos"
      ],
      "metadata": {
        "id": "G_9MT66PEjXZ"
      }
    },
    {
      "cell_type": "code",
      "source": [
        "import numpy as np\n",
        "import matplotlib.pyplot as plt\n",
        "\n",
        "PUNTOS = np.sort((np.random.rand(8)*10000).astype(np.int32))\n",
        "display(PUNTOS)\n",
        "plt.plot(PUNTOS, 'b*');"
      ],
      "metadata": {
        "colab": {
          "base_uri": "https://localhost:8080/",
          "height": 447
        },
        "id": "feUSrWv-IidZ",
        "outputId": "950ba192-6926-4edd-a596-01581fa201f0"
      },
      "execution_count": 16,
      "outputs": [
        {
          "output_type": "display_data",
          "data": {
            "text/plain": [
              "array([ 503,  937, 4254, 5554, 5845, 6528, 8271, 9336], dtype=int32)"
            ]
          },
          "metadata": {}
        },
        {
          "output_type": "display_data",
          "data": {
            "text/plain": [
              "<Figure size 640x480 with 1 Axes>"
            ],
            "image/png": "[encoded data removed]"
          },
          "metadata": {}
        }
      ]
    },
    {
      "cell_type": "markdown",
      "source": [
        "### Fuerza bruta"
      ],
      "metadata": {
        "id": "Q10yoXzSMSHq"
      }
    },
    {
      "cell_type": "code",
      "source": [
        "def puntos_cercanos_fuerza_bruta(PUNTOS):\n",
        "    distancia = 1e6\n",
        "    SOLUCION = [0]*2\n",
        "    for i in range(0,len(PUNTOS)-1):\n",
        "        for j in range(1,len(PUNTOS)):\n",
        "            if np.abs(PUNTOS[i]-PUNTOS[j]) < distancia and i!=j:\n",
        "                distancia = np.abs(PUNTOS[i]-PUNTOS[j])\n",
        "                SOLUCION = [PUNTOS[i],PUNTOS[j]]\n",
        "                # print(SOLUCION)\n",
        "    print(\"Puntos: \",SOLUCION, \" y distancia: \", np.abs(SOLUCION[0]-SOLUCION[1]))\n",
        "\n",
        "puntos_cercanos_fuerza_bruta(PUNTOS)"
      ],
      "metadata": {
        "colab": {
          "base_uri": "https://localhost:8080/"
        },
        "id": "7kDpxJkzJWIB",
        "outputId": "f5fa2985-ee67-4b2a-c6a9-64924ec50618"
      },
      "execution_count": 17,
      "outputs": [
        {
          "output_type": "stream",
          "name": "stdout",
          "text": [
            "Puntos:  [5554, 5845]  y distancia:  291\n"
          ]
        }
      ]
    },
    {
      "cell_type": "markdown",
      "source": [
        "## Divide y Vencerás"
      ],
      "metadata": {
        "id": "OfHoW0IYMWtA"
      }
    },
    {
      "cell_type": "code",
      "source": [
        "def puntos_cercanos_divide_y_venceras(PUNTOS):\n",
        "    print(PUNTOS)\n",
        "    distancia = 1e6\n",
        "    dLmin = 1e6\n",
        "    dRmin = 1e6\n",
        "    dLRmin = 1e6\n",
        "    SOLUCION = [0]*2\n",
        "    if len(PUNTOS) == 0:\n",
        "        return np.inf\n",
        "    elif len(PUNTOS) == 1:\n",
        "        return np.inf\n",
        "    elif len(PUNTOS) == 2:\n",
        "        return np.abs(PUNTOS[0]-PUNTOS[1])\n",
        "    else:\n",
        "        divL, divR = np.array_split(PUNTOS, 2)\n",
        "        dL = puntos_cercanos_divide_y_venceras(divL)\n",
        "        dR = puntos_cercanos_divide_y_venceras(divR)\n",
        "        if dL < dLmin:\n",
        "            dLmin = dL\n",
        "        if dR < dRmin:\n",
        "            dRmin = dR\n",
        "        if dRmin > dLmin:\n",
        "            return dLmin\n",
        "        else:\n",
        "            return dRmin\n",
        "\n",
        "puntos_cercanos_divide_y_venceras(PUNTOS)"
      ],
      "metadata": {
        "id": "fZuED_7AMXIp",
        "colab": {
          "base_uri": "https://localhost:8080/"
        },
        "outputId": "609b94e3-98aa-4018-ed63-ad2c16e66ff2"
      },
      "execution_count": 29,
      "outputs": [
        {
          "output_type": "stream",
          "name": "stdout",
          "text": [
            "[ 503  937 4254 5554 5845 6528 8271 9336]\n",
            "[ 503  937 4254 5554]\n",
            "[503 937]\n",
            "[4254 5554]\n",
            "[5845 6528 8271 9336]\n",
            "[5845 6528]\n",
            "[8271 9336]\n"
          ]
        },
        {
          "output_type": "execute_result",
          "data": {
            "text/plain": [
              "434"
            ]
          },
          "metadata": {},
          "execution_count": 29
        }
      ]
    },
    {
      "cell_type": "code",
      "source": [
        "def puntos_cercanos_divide_y_venceras(PUNTOS):\n",
        "    # print(PUNTOS)\n",
        "    distancia = 1e6\n",
        "    dLmin = 1e6\n",
        "    dRmin = 1e6\n",
        "    dLRmin = 1e6\n",
        "    SOLUCION = [0]*2\n",
        "    if len(PUNTOS) == 0:\n",
        "        return np.inf\n",
        "    elif len(PUNTOS) == 1:\n",
        "        return PUNTOS[0]\n",
        "    else:\n",
        "        divL, divR = np.array_split(PUNTOS, 2)\n",
        "        pL = puntos_cercanos_divide_y_venceras(divL)\n",
        "        pR = puntos_cercanos_divide_y_venceras(divR)\n",
        "        # print(pL, pR)\n",
        "        if dLRmin > np.abs(pL-pR):\n",
        "            dLRmin = np.abs(pL-pR)\n",
        "        return dLRmin\n",
        "\n",
        "puntos_cercanos_divide_y_venceras(PUNTOS)"
      ],
      "metadata": {
        "colab": {
          "base_uri": "https://localhost:8080/"
        },
        "id": "bcvjbDZzorOK",
        "outputId": "ae9c3ef9-c693-4c02-fe86-a0abe9ecc42e"
      },
      "execution_count": 26,
      "outputs": [
        {
          "output_type": "execute_result",
          "data": {
            "text/plain": [
              "484"
            ]
          },
          "metadata": {},
          "execution_count": 26
        }
      ]
    }
  ]
}